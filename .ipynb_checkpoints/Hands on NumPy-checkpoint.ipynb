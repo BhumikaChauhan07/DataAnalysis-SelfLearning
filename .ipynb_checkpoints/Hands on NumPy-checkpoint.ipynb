{
 "cells": [
  {
   "cell_type": "markdown",
   "id": "008e34a6",
   "metadata": {},
   "source": [
    "# Hands on NumPy!"
   ]
  },
  {
   "cell_type": "code",
   "execution_count": 2,
   "id": "8cde6803",
   "metadata": {},
   "outputs": [
    {
     "data": {
      "text/plain": [
       "array([1, 2, 3, 4])"
      ]
     },
     "execution_count": 2,
     "metadata": {},
     "output_type": "execute_result"
    }
   ],
   "source": [
    "import numpy as np\n",
    "np.array([1,2,3,4])\n"
   ]
  },
  {
   "cell_type": "markdown",
   "id": "935998b1",
   "metadata": {},
   "source": [
    "#### The array item list can be created as shown below or can be an external source such as an existing list or directory, etc."
   ]
  },
  {
   "cell_type": "code",
   "execution_count": 19,
   "id": "e1654164",
   "metadata": {},
   "outputs": [],
   "source": [
    "a = np.array([1,2,3,4])\n",
    "b = np.array([1.5,2.6,3.9,4.1,5.8,9,3])\n"
   ]
  },
  {
   "cell_type": "markdown",
   "id": "38ca827d",
   "metadata": {},
   "source": [
    "#### The items at the given location are returned as a single digit if only one item is retrieved otherewise as list if multilple items are retrieved. But this is not multi indexing"
   ]
  },
  {
   "cell_type": "code",
   "execution_count": 6,
   "id": "0ab3a159",
   "metadata": {},
   "outputs": [
    {
     "data": {
      "text/plain": [
       "(1, 2)"
      ]
     },
     "execution_count": 6,
     "metadata": {},
     "output_type": "execute_result"
    }
   ],
   "source": [
    "a[0], a[1]"
   ]
  },
  {
   "cell_type": "code",
   "execution_count": 9,
   "id": "2a33e44b",
   "metadata": {},
   "outputs": [
    {
     "data": {
      "text/plain": [
       "4"
      ]
     },
     "execution_count": 9,
     "metadata": {},
     "output_type": "execute_result"
    }
   ],
   "source": [
    "a[3]"
   ]
  },
  {
   "cell_type": "markdown",
   "id": "a7800e4f",
   "metadata": {},
   "source": [
    "### slicing"
   ]
  },
  {
   "cell_type": "code",
   "execution_count": 10,
   "id": "e336d3dc",
   "metadata": {},
   "outputs": [
    {
     "data": {
      "text/plain": [
       "array([1, 2, 3, 4])"
      ]
     },
     "execution_count": 10,
     "metadata": {},
     "output_type": "execute_result"
    }
   ],
   "source": [
    "a[0:]"
   ]
  },
  {
   "cell_type": "code",
   "execution_count": 11,
   "id": "f00a9ba5",
   "metadata": {},
   "outputs": [
    {
     "data": {
      "text/plain": [
       "array([2, 3])"
      ]
     },
     "execution_count": 11,
     "metadata": {},
     "output_type": "execute_result"
    }
   ],
   "source": [
    "a[1:3]"
   ]
  },
  {
   "cell_type": "code",
   "execution_count": 12,
   "id": "ecc119d9",
   "metadata": {},
   "outputs": [
    {
     "data": {
      "text/plain": [
       "array([2, 3])"
      ]
     },
     "execution_count": 12,
     "metadata": {},
     "output_type": "execute_result"
    }
   ],
   "source": [
    "a[1:-1]"
   ]
  },
  {
   "cell_type": "markdown",
   "id": "d56ec3cc",
   "metadata": {},
   "source": [
    "#### This do not produce any result because this format workd by adding +1 by default to the index before the colon so -3 can never be reached by this. "
   ]
  },
  {
   "cell_type": "code",
   "execution_count": 18,
   "id": "d43e1e84",
   "metadata": {},
   "outputs": [
    {
     "data": {
      "text/plain": [
       "array([], dtype=int32)"
      ]
     },
     "execution_count": 18,
     "metadata": {},
     "output_type": "execute_result"
    }
   ],
   "source": [
    "a[-1:-3]"
   ]
  },
  {
   "cell_type": "markdown",
   "id": "a08ee846",
   "metadata": {},
   "source": [
    "#### This works perfectly fine based on the above mentioned condition. It is equivalent to a[-3:-1:1] where 1 denotes steps of +1"
   ]
  },
  {
   "cell_type": "code",
   "execution_count": 14,
   "id": "efe6c9a8",
   "metadata": {},
   "outputs": [
    {
     "data": {
      "text/plain": [
       "array([2, 3])"
      ]
     },
     "execution_count": 14,
     "metadata": {},
     "output_type": "execute_result"
    }
   ],
   "source": [
    "a[-3:-1]"
   ]
  },
  {
   "cell_type": "code",
   "execution_count": 17,
   "id": "9022e6e0",
   "metadata": {},
   "outputs": [
    {
     "data": {
      "text/plain": [
       "array([4, 3])"
      ]
     },
     "execution_count": 17,
     "metadata": {},
     "output_type": "execute_result"
    }
   ],
   "source": [
    "a[3:1:-1]"
   ]
  },
  {
   "cell_type": "markdown",
   "id": "fa259ada",
   "metadata": {},
   "source": [
    "#### NumPy supports multi indexing unlike lists."
   ]
  },
  {
   "cell_type": "code",
   "execution_count": 22,
   "id": "525e745d",
   "metadata": {},
   "outputs": [
    {
     "data": {
      "text/plain": [
       "array([1.5, 4.1, 3. ])"
      ]
     },
     "execution_count": 22,
     "metadata": {},
     "output_type": "execute_result"
    }
   ],
   "source": [
    "b[[0,3,-1]]"
   ]
  },
  {
   "cell_type": "markdown",
   "id": "ae5f732f",
   "metadata": {},
   "source": [
    "### Array types (Arrays are consistent and dtore item of similar sata types)"
   ]
  },
  {
   "cell_type": "code",
   "execution_count": 26,
   "id": "a85e7ad3",
   "metadata": {},
   "outputs": [
    {
     "name": "stdout",
     "output_type": "stream",
     "text": [
      "[1 2 3 4] int32\n"
     ]
    },
    {
     "data": {
      "text/plain": [
       "dtype('int32')"
      ]
     },
     "execution_count": 26,
     "metadata": {},
     "output_type": "execute_result"
    }
   ],
   "source": [
    "print(a, a.dtype)\n",
    "a.dtype"
   ]
  },
  {
   "cell_type": "code",
   "execution_count": 27,
   "id": "58455739",
   "metadata": {},
   "outputs": [
    {
     "name": "stdout",
     "output_type": "stream",
     "text": [
      "[1.5 2.6 3.9 4.1 5.8 9.  3. ] float64\n"
     ]
    },
    {
     "data": {
      "text/plain": [
       "dtype('float64')"
      ]
     },
     "execution_count": 27,
     "metadata": {},
     "output_type": "execute_result"
    }
   ],
   "source": [
    "print(b, b.dtype)\n",
    "b.dtype"
   ]
  },
  {
   "cell_type": "code",
   "execution_count": 28,
   "id": "ee44950f",
   "metadata": {},
   "outputs": [],
   "source": [
    "a = np.array([1,2,3,4], dtype = np.int8)"
   ]
  },
  {
   "cell_type": "code",
   "execution_count": 29,
   "id": "b9881780",
   "metadata": {},
   "outputs": [
    {
     "data": {
      "text/plain": [
       "dtype('int8')"
      ]
     },
     "execution_count": 29,
     "metadata": {},
     "output_type": "execute_result"
    }
   ],
   "source": [
    "a.dtype"
   ]
  },
  {
   "cell_type": "code",
   "execution_count": 32,
   "id": "7bb389bc",
   "metadata": {},
   "outputs": [
    {
     "name": "stderr",
     "output_type": "stream",
     "text": [
      "C:\\Users\\91730\\AppData\\Local\\Temp/ipykernel_24284/3917309836.py:1: DeprecationWarning: `np.float` is a deprecated alias for the builtin `float`. To silence this warning, use `float` by itself. Doing this will not modify any behavior and is safe. If you specifically wanted the numpy scalar type, use `np.float64` here.\n",
      "Deprecated in NumPy 1.20; for more details and guidance: https://numpy.org/devdocs/release/1.20.0-notes.html#deprecations\n",
      "  np.array([1,2,3,4], dtype = np.float).dtype\n"
     ]
    },
    {
     "data": {
      "text/plain": [
       "dtype('float64')"
      ]
     },
     "execution_count": 32,
     "metadata": {},
     "output_type": "execute_result"
    }
   ],
   "source": [
    "np.array([1,2,3,4], dtype = np.float).dtype\n"
   ]
  },
  {
   "cell_type": "markdown",
   "id": "33b7f64d",
   "metadata": {},
   "source": [
    "#### NumPy arrays are ususally for storing numeric values but the charact arrays can also be created through saving those characters as unicode"
   ]
  },
  {
   "cell_type": "code",
   "execution_count": 34,
   "id": "3e3a1eab",
   "metadata": {},
   "outputs": [
    {
     "data": {
      "text/plain": [
       "dtype('<U1')"
      ]
     },
     "execution_count": 34,
     "metadata": {},
     "output_type": "execute_result"
    }
   ],
   "source": [
    "c = np.array(['a','b','c'])\n",
    "c.dtype"
   ]
  },
  {
   "cell_type": "markdown",
   "id": "739e3692",
   "metadata": {},
   "source": [
    "#### There is no retsrictions in creating non numeric arrays in NumPy but since those are complex during numeric computations (some might  not even support it) they are not usually created. The following shows as arat consisting of dictionary and the sys module and scince it does not have any specific primitive type it is put as an object"
   ]
  },
  {
   "cell_type": "code",
   "execution_count": 36,
   "id": "9b602bf2",
   "metadata": {},
   "outputs": [
    {
     "data": {
      "text/plain": [
       "array([{'a': 1}, <module 'sys' (built-in)>], dtype=object)"
      ]
     },
     "execution_count": 36,
     "metadata": {},
     "output_type": "execute_result"
    }
   ],
   "source": [
    "import sys\n",
    "d = np.array([{'a':1}, sys])\n",
    "d"
   ]
  }
 ],
 "metadata": {
  "kernelspec": {
   "display_name": "Python 3 (ipykernel)",
   "language": "python",
   "name": "python3"
  },
  "language_info": {
   "codemirror_mode": {
    "name": "ipython",
    "version": 3
   },
   "file_extension": ".py",
   "mimetype": "text/x-python",
   "name": "python",
   "nbconvert_exporter": "python",
   "pygments_lexer": "ipython3",
   "version": "3.9.7"
  }
 },
 "nbformat": 4,
 "nbformat_minor": 5
}
